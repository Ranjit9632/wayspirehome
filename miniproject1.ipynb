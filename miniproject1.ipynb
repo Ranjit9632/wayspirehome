{
 "cells": [
  {
   "cell_type": "code",
   "execution_count": 34,
   "metadata": {},
   "outputs": [],
   "source": [
    "#NAME - LAKUMARAPU RANJIT KUMAR\n",
    "#BATCH - JUNE BATCH\n",
    "#COURSE - AI-ML\n",
    "#TUTOR - MR.NIKHIL\n",
    "#EMAIL - RANJITHKUMAR9632@GMAIL.COM\n",
    "#PROJECT - MINIPROJECT-1"
   ]
  },
  {
   "cell_type": "code",
   "execution_count": 2,
   "metadata": {},
   "outputs": [
    {
     "name": "stdout",
     "output_type": "stream",
     "text": [
      "Data-Science-Mentorship-Program-By-Wayspire\n",
      "\n"
     ]
    }
   ],
   "source": [
    "### Q1 :- Print the given strings as per stated format.\n",
    "##*Given strings*: \n",
    "##\"Data\" \"Science\" \"Mentorship\" \"Program\" \n",
    "##\"By\" \"Wayspire\"\n",
    "##*Output*: \n",
    "##Data-Science-Mentorship-Program-started-By-Wayspire\n",
    "\n",
    "print(\"Data\",\"Science\",\"Mentorship\",\"Program\",\"By\",\"Wayspire\",sep = '-',end ='')\n",
    "\n",
    "print(\"\\n\")"
   ]
  },
  {
   "cell_type": "code",
   "execution_count": 4,
   "metadata": {},
   "outputs": [
    {
     "name": "stdin",
     "output_type": "stream",
     "text": [
      "Enter the temperature in centigrade :  23\n"
     ]
    },
    {
     "name": "stdout",
     "output_type": "stream",
     "text": [
      "The value of temperature in Farenheit is 73.4 deg F \n"
     ]
    }
   ],
   "source": [
    "### Q2:- Write a program that will convert celsius value to fahrenheit.\n",
    "\n",
    "def converter():\n",
    "    temp_cen = float(input(\"Enter the temperature in centigrade : \"))\n",
    "    temp_far = temp_cen*1.8 + 32\n",
    "    print(f\"The value of temperature in Farenheit is {temp_far} deg F \")\n",
    "\n",
    "try:\n",
    "    converter()\n",
    "except (ValueError):\n",
    "    print(\"Please enter only numeric value\")\n",
    "    converter()"
   ]
  },
  {
   "cell_type": "code",
   "execution_count": 5,
   "metadata": {},
   "outputs": [
    {
     "name": "stdin",
     "output_type": "stream",
     "text": [
      "Enter the first number :  2\n",
      "Enter the second number :  60\n"
     ]
    },
    {
     "name": "stdout",
     "output_type": "stream",
     "text": [
      " your entry num_1 is 2.0 and num_2 is 60.0\n",
      "swapping.....\n",
      "swapped is num_1 is 60.0 and num_2 is 2.0\n"
     ]
    }
   ],
   "source": [
    "###Q3:- Take 2 numbers as input from the user.Write a program to swap the numbers without using any special python syntax.\n",
    "import time\n",
    "num_1 = float(input(\"Enter the first number : \"))\n",
    "num_2 = float(input(\"Enter the second number : \"))\n",
    "print (f\" your entry num_1 is {num_1} and num_2 is {num_2}\")\n",
    "temp = num_1\n",
    "num_1 = num_2\n",
    "num_2 = temp\n",
    "print(\"swapping.....\")\n",
    "time.sleep(3)\n",
    "print(f\"swapped is num_1 is {num_1} and num_2 is {num_2}\")"
   ]
  },
  {
   "cell_type": "code",
   "execution_count": 7,
   "metadata": {},
   "outputs": [
    {
     "name": "stdin",
     "output_type": "stream",
     "text": [
      "Enter the first x1 co-ordinate :  2\n",
      "Enter the first y1 co-ordinate :  3\n",
      "Enter the first x2 co-ordinate :  4\n",
      "Enter the first y2 co-ordinate :  5\n"
     ]
    },
    {
     "name": "stdout",
     "output_type": "stream",
     "text": [
      "The euclidean distance is 2.83\n"
     ]
    }
   ],
   "source": [
    "\n",
    "### Q4:- Write a program to find the euclidean distance between two coordinates.Take both the coordinates from the user as input.\n",
    "import math\n",
    "\n",
    "co_1 = input(\"Enter the first x1 co-ordinate : \")\n",
    "co_2 = input(\"Enter the first y1 co-ordinate : \")\n",
    "co_3 = input(\"Enter the first x2 co-ordinate : \")\n",
    "co_4 = input(\"Enter the first y2 co-ordinate : \")\n",
    "\n",
    "try:\n",
    "    cor_1=float(co_1)\n",
    "    cor_2=float(co_2)\n",
    "    cor_3=float(co_3)\n",
    "    cor_4=float(co_4)\n",
    "    \n",
    "    eu_dist = math.sqrt((cor_3-cor_1)**2 + (cor_4-cor_2)**2 )\n",
    "    print(f\"The euclidean distance is {eu_dist:.2f}\")\n",
    "except ValueError:\n",
    "    print(\"invalid entry \\n Please enter either integers or float value\")"
   ]
  },
  {
   "cell_type": "code",
   "execution_count": 8,
   "metadata": {},
   "outputs": [
    {
     "name": "stdin",
     "output_type": "stream",
     "text": [
      "Enter the prinicipal amount :  1000\n",
      "Enter the rate of interest in % like eg.3 :  5\n",
      "Enter years :  3\n"
     ]
    },
    {
     "name": "stdout",
     "output_type": "stream",
     "text": [
      " The simple interest for principal amount 1000, \n",
      " rate of interest 5, \n",
      " years 3 is \n",
      " simple interest:150.0 \n",
      " total amount is 1150.0\n"
     ]
    }
   ],
   "source": [
    "### Q5:- Write a program to find the simple interest when the value of principle,rate of interest and time period is provided by the user.\n",
    "\n",
    "principal = input(\"Enter the prinicipal amount : \")\n",
    "rateofinterest = input(\"Enter the rate of interest in % like eg.3 : \")\n",
    "years = input(\"Enter years : \")\n",
    "simp_in = float(principal)*float(rateofinterest)*float(years)/100\n",
    "total = simp_in + float(principal)\n",
    "print(f\" The simple interest for principal amount {principal}, \\n rate of interest {rateofinterest}, \\n years {years} is \\n simple interest:{simp_in} \\n total amount is {total}\")"
   ]
  },
  {
   "cell_type": "code",
   "execution_count": 9,
   "metadata": {},
   "outputs": [
    {
     "name": "stdin",
     "output_type": "stream",
     "text": [
      "Enter the value of heads :  4\n",
      "Enter the value of legs :  14\n"
     ]
    },
    {
     "name": "stdout",
     "output_type": "stream",
     "text": [
      "no of dogs is 3.0 and \n",
      " no of cats is 1.0\n"
     ]
    }
   ],
   "source": [
    "### Q6:- Write a program that will tell the number of dogs and chicken are there when the user will provide the value of total heads and legs.\n",
    "##For example:\n",
    "##Input:\n",
    "##heads -> 4\n",
    "##legs -> 12\n",
    "##<br>\n",
    "##Output:\n",
    "##dogs -> 2\n",
    "##cats -> 2\n",
    "\n",
    "try:\n",
    "    heads = int(input(\"Enter the value of heads : \"))\n",
    "    legs = int(input(\"Enter the value of legs : \"))\n",
    "except ValueError:\n",
    "    print(\"Enter only integers\")\n",
    "\n",
    "cats = (4*heads - legs)/2\n",
    "dogs = heads - cats\n",
    "dog = int(dogs)\n",
    "cat = int(cats)\n",
    "\n",
    "variation = legs - (4*abs(dog) + 2*abs(cat))\n",
    "\n",
    "if (variation==0):\n",
    "    print(f\"no of dogs is {dogs} and \\n no of cats is {cats}\")\n",
    "else:\n",
    "    if (dog>0 & cat>0):\n",
    "        print(f\"no of dogs is {dog} and \\n no of cats is {cat}\")\n",
    "        print(f\" you have entered extra value of  {variation} legs\")\n",
    "    elif (cat<0):\n",
    "        dog = dog+cat\n",
    "        print(f\"no of dogs is {dog} and \\n no of cats is {abs(cat)}\")\n",
    "        print (f\" you have entered extra value of  {legs-4*dog-2*abs(cat)} legs\")\n",
    "    elif (cat==0):\n",
    "        print(f\"no of dogs is {dog} and \\n no of cats is {abs(cat)}\")"
   ]
  },
  {
   "cell_type": "code",
   "execution_count": 10,
   "metadata": {},
   "outputs": [
    {
     "name": "stdin",
     "output_type": "stream",
     "text": [
      "Enter the value to be squared until it :  5\n"
     ]
    },
    {
     "name": "stdout",
     "output_type": "stream",
     "text": [
      "sum of squares is 55\n"
     ]
    }
   ],
   "source": [
    "### Q7:- Write a program to find the sum of squares of first n natural numbers where n will be provided by the user.\n",
    "\n",
    "try:\n",
    "    n = int(input(\"Enter the value to be squared until it : \"))\n",
    "except ValueError:\n",
    "    print(\"Enter only integer\")\n",
    "\n",
    "if (n==0):\n",
    "    print(\"0\")\n",
    "elif n<0:\n",
    "    bumo =0\n",
    "    for i in range(abs(n)+1):\n",
    "        bumo = i**2 + bumo\n",
    "    print(f\"sum of squares is {-bumo}\")\n",
    "else:\n",
    "    sumo = 0\n",
    "    for i in range(0,n+1):\n",
    "        sumo = i**2 + sumo\n",
    "    print(f\"sum of squares is {sumo}\")"
   ]
  },
  {
   "cell_type": "code",
   "execution_count": 11,
   "metadata": {},
   "outputs": [
    {
     "name": "stdin",
     "output_type": "stream",
     "text": [
      "Enter the value 1st term in am series :  1\n",
      "Enter the value 2nd term in am series :  3\n",
      "Enter the nth term to find:  56\n"
     ]
    },
    {
     "name": "stdout",
     "output_type": "stream",
     "text": [
      "the value at {term}th term is : \n",
      "111\n"
     ]
    }
   ],
   "source": [
    "### Q8:- Given the first 2 terms of an Arithmetic Series.Find the Nth term of the series. Assume all inputs are provided by the user.\n",
    "\n",
    "try:\n",
    "    n_1 = int(input(\"Enter the value 1st term in am series : \"))\n",
    "    n_2 = int(input(\"Enter the value 2nd term in am series : \"))\n",
    "    term = int(input(\"Enter the nth term to find: \"))\n",
    "    print(\"the value at {term}th term is : \")\n",
    "except ValueError:\n",
    "    print(\"Enter only integer\")\n",
    "\n",
    "if (n_1==0 & n_2==0):\n",
    "    print(\"0\")\n",
    "else:\n",
    "    if (n_1>0 and n_2>0):\n",
    "        cd = abs(abs(n_1)-abs(n_2))\n",
    "        am = n_1 + (term-1)*cd\n",
    "        print(am)\n",
    "    elif(n_1<0 and n_2>0):\n",
    "        cd = n_2-n_1\n",
    "        am = n_1 + (term-1)*cd\n",
    "        print(am)\n",
    "    else:\n",
    "        cd = abs(abs(n_1)-abs(n_2))\n",
    "        am = n_1 - (term-1)*cd\n",
    "        print(am)"
   ]
  },
  {
   "cell_type": "code",
   "execution_count": 12,
   "metadata": {},
   "outputs": [
    {
     "name": "stdin",
     "output_type": "stream",
     "text": [
      "Enter the value 1st numerator :  2\n",
      "Enter the value 1st denominator :  3\n",
      "Enter the value 2nd numerator :  4\n",
      "Enter the value 2nd denominator :  5\n"
     ]
    },
    {
     "name": "stdout",
     "output_type": "stream",
     "text": [
      "The sum of 2/3 and 4/5 is 22/15\n"
     ]
    }
   ],
   "source": [
    "### Q9:- Given 2 fractions, find the sum of those 2 fractions.Take the numerator and denominator values of the fractions from the user.\n",
    "\n",
    "n_1 = int(input(\"Enter the value 1st numerator : \"))\n",
    "d_1 = int(input(\"Enter the value 1st denominator : \"))\n",
    "n_2 = int(input(\"Enter the value 2nd numerator : \"))\n",
    "d_2 = int(input(\"Enter the value 2nd denominator : \"))\n",
    "den = d_1*d_2\n",
    "num = n_1*d_2+d_1*n_2\n",
    "print (f\"The sum of {n_1}/{d_1} and {n_2}/{d_2} is {num}/{den}\")"
   ]
  },
  {
   "cell_type": "code",
   "execution_count": 14,
   "metadata": {},
   "outputs": [
    {
     "name": "stdin",
     "output_type": "stream",
     "text": [
      "Enter the length of tank in cm :  5\n",
      "Enter the width of tank in cm :  6\n",
      "Enter the depth of tank in cm :  3\n",
      "Enter the height of glass in cm :  4\n",
      "Enter the radius of glass in cm :  6\n"
     ]
    },
    {
     "name": "stdout",
     "output_type": "stream",
     "text": [
      "The vol of tank is 90\n",
      "The vol of glass is 452.3893421169302\n",
      "the no of glasses that takes to fill tanker milk is 0\n"
     ]
    }
   ],
   "source": [
    "### Q10:- Given the height, width and breadth of a milk tank, you have to find out how many glasses of milk can be obtained? Assume all the inputs are provided by the user.\n",
    "##Input:<br>\n",
    "##Dimensions of the milk tank<br>\n",
    "##H = 20cm, L = 20cm, B = 20cm\n",
    "##<br><br>\n",
    "##Dimensions of the glass<br>\n",
    "##h = 3cm, r = 1cm\n",
    "\n",
    "import math\n",
    "len_t = int(input(\"Enter the length of tank in cm : \"))\n",
    "bre_t = int(input(\"Enter the width of tank in cm : \"))\n",
    "dep_t = int(input(\"Enter the depth of tank in cm : \"))\n",
    "vol_t = len_t*bre_t*dep_t\n",
    "\n",
    "h_g = int(input(\"Enter the height of glass in cm : \"))\n",
    "r_g = int(input(\"Enter the radius of glass in cm : \"))\n",
    "vol_g = math.pi* h_g * r_g**2\n",
    "\n",
    "print (f\"The vol of tank is {vol_t}\")\n",
    "print (f\"The vol of glass is {vol_g}\")\n",
    "print (f\"the no of glasses that takes to fill tanker milk is {int(vol_t/vol_g)}\")"
   ]
  },
  {
   "cell_type": "code",
   "execution_count": 15,
   "metadata": {},
   "outputs": [
    {
     "name": "stdin",
     "output_type": "stream",
     "text": [
      "Enter the monthly salary without commas :  500000\n"
     ]
    },
    {
     "name": "stdout",
     "output_type": "stream",
     "text": [
      " hra deduction 10% is 50,000\n",
      " da deduction 5% is 25,000\n",
      " pf deduction 3% is 15,000\n",
      "monthly salary in hand after deduction of 90,000 is 410,000\n"
     ]
    }
   ],
   "source": [
    "### Problem 1: Write a program that will give you in hand monthly salary after deduction on CTC - HRA(10%), DA(5%), PF(3%) and taxes deduction as below:\n",
    "##> Salary(Lakhs) : Tax(%)\n",
    "##*   Below 5 : 0%\n",
    "##*   5-10 : 10%\n",
    "##*   10-20 : 20%\n",
    "##*   aboove 20 : 30%\n",
    "\n",
    "salary = int(input(\"Enter the monthly salary without commas : \"))\n",
    "\n",
    "def deductions(salary):\n",
    "    hra = int(salary/10)\n",
    "    print(f\" hra deduction 10% is {hra:,}\")\n",
    "    da = int(salary/20)\n",
    "    print(f\" da deduction 5% is {da:,}\")\n",
    "    pf = int(salary*3/100)\n",
    "    print(f\" pf deduction 3% is {pf:,}\")\n",
    "    return hra+da+pf\n",
    "if salary<=5_00_000:\n",
    "    ded = deductions(salary)\n",
    "    print(f\"monthly salary in hand after deduction of {ded:,} is {salary-ded:,}\")\n",
    "elif (salary>5_00_000 and salary<=10_00_000):\n",
    "    ded = deductions(salary)\n",
    "    tax = int(salary/10)\n",
    "    print(f\" tax deduction 10% is {tax:,}\")\n",
    "    print(f\"monthly salary in hand after deduction of {ded+tax:,} is {salary-ded-tax:,}\")\n",
    "elif (salary>10_00_000 and salary<=20_00_000):\n",
    "    ded = deductions(salary)\n",
    "    tax = int(salary/5)\n",
    "    print(f\"tax deduction 20% is {tax:,}\")\n",
    "    print(f\"monthly salary in hand after deduction of {ded+tax:,} is {salary-ded-tax:,}\")\n",
    "else:\n",
    "    ded = deductions(salary)\n",
    "    tax = int(salary*3/10)\n",
    "    print(f\"tax deduction 30% is {tax:,}\")\n",
    "    print(f\"monthly salary in hand after deduction of {ded+tax:,} is {salary-ded-tax:,}\")"
   ]
  },
  {
   "cell_type": "code",
   "execution_count": 16,
   "metadata": {},
   "outputs": [
    {
     "name": "stdin",
     "output_type": "stream",
     "text": [
      "Enter the 1st angle of triangle :  60\n",
      "Enter the 2nd angle of triangle :  60\n",
      "Enter the 3rd angle of triangle :  60\n"
     ]
    },
    {
     "name": "stdout",
     "output_type": "stream",
     "text": [
      "yes it can form a triangle\n",
      "its an equilateral\n"
     ]
    }
   ],
   "source": [
    "### Problem 2: Write a program that take a user input of three angles and will find out whether it can form a triangle or not.\n",
    "\n",
    "a_t = int(input(\"Enter the 1st angle of triangle : \"))\n",
    "b_t = int(input(\"Enter the 2nd angle of triangle : \"))\n",
    "c_t = int(input(\"Enter the 3rd angle of triangle : \"))\n",
    "\n",
    "if (a_t ==0 or b_t==0 or c_t == 0):\n",
    "    print(f\"please enter only angle greater than 0 as it doesnt form a traingle\")\n",
    "elif (a_t+b_t+c_t == 180):\n",
    "    print(f\"yes it can form a triangle\")\n",
    "    if (a_t ==90 or b_t==90 or c_t == 90):\n",
    "        print(\"its a right triangle\")\n",
    "    elif (a_t ==b_t==c_t):\n",
    "        print(\"its an equilateral\")\n",
    "    else:\n",
    "        print(\"its an acute triangle\")\n",
    "else :\n",
    "    print(f\"no it does not form a triangle\")"
   ]
  },
  {
   "cell_type": "code",
   "execution_count": 17,
   "metadata": {},
   "outputs": [
    {
     "name": "stdin",
     "output_type": "stream",
     "text": [
      "Enter the cost price :  25\n",
      "Enter the selling price :  36\n"
     ]
    },
    {
     "name": "stdout",
     "output_type": "stream",
     "text": [
      "its profit\n"
     ]
    }
   ],
   "source": [
    "### Problem 3: Write a program that will take user input of cost price and selling price and determines whether its a loss or a profit.\n",
    "\n",
    "a_t = int(input(\"Enter the cost price : \"))\n",
    "b_t = int(input(\"Enter the selling price : \"))\n",
    "\n",
    "if (a_t<b_t):\n",
    "    print(f\"its profit\")\n",
    "else :\n",
    "    print(f\"its loss\")"
   ]
  },
  {
   "cell_type": "code",
   "execution_count": 18,
   "metadata": {},
   "outputs": [
    {
     "name": "stdout",
     "output_type": "stream",
     "text": [
      " 1. cm to ft \n",
      " 2. km to miles \n",
      " 3. USD to INR \n",
      " 4. exit \n"
     ]
    },
    {
     "name": "stdin",
     "output_type": "stream",
     "text": [
      "select the value from above menu :  1\n",
      "enter the value in cm to convert into ft:  25\n"
     ]
    },
    {
     "name": "stdout",
     "output_type": "stream",
     "text": [
      " The value of 25 cm into ft is 762.00\n"
     ]
    }
   ],
   "source": [
    "### Problem 4: Write a menu-driven program - \n",
    "##1. cm to ft \n",
    "##2. km to miles \n",
    "##3. USD to INR \n",
    "##4. exit\n",
    "\n",
    "print(\" 1. cm to ft \\n 2. km to miles \\n 3. USD to INR \\n 4. exit \")\n",
    "menu = int(input(\"select the value from above menu : \"))\n",
    "if menu==1:\n",
    "    ent_cm = int(input(\"enter the value in cm to convert into ft: \"))\n",
    "    val_cm = ent_cm * 12 * 2.54\n",
    "    print(f\" The value of {ent_cm} cm into ft is {val_cm:.2f}\")\n",
    "elif menu==2:\n",
    "    ent_cm = int(input(\"enter the value in km to convert into miles: \"))\n",
    "    val_cm = ent_cm * 0.621\n",
    "    print(f\" The value of {ent_cm} km into miles is {val_cm:.2f}\")\n",
    "elif menu==3:\n",
    "    ent_cm = int(input(\"enter the value in USD to convert into INR: \"))\n",
    "    val_cm = ent_cm * 83.36\n",
    "    print(f\"The value of {ent_cm} USD into INR is {val_cm:.2f}\")\n",
    "else:\n",
    "    exit()"
   ]
  },
  {
   "cell_type": "code",
   "execution_count": 19,
   "metadata": {},
   "outputs": [
    {
     "name": "stdin",
     "output_type": "stream",
     "text": [
      "enter the value to start fibbonacci series:  56\n"
     ]
    },
    {
     "name": "stdout",
     "output_type": "stream",
     "text": [
      "56\n",
      "57\n",
      "113\n",
      "170\n",
      "283\n",
      "453\n",
      "736\n",
      "1189\n",
      "1925\n",
      "3114\n"
     ]
    }
   ],
   "source": [
    "### Problem 5 - Exercise 12: Display Fibonacci series up to 10 terms.\n",
    "##Note: The Fibonacci Sequence is a series of numbers. The next number is found by adding up the two numbers before it. The first two numbers are 0 and 1.\n",
    "##For example, 0, 1, 1, 2, 3, 5, 8, 13, 21. The next number in this series above is 13+21 = 34\n",
    "\n",
    "ent_cm = int(input(\"enter the value to start fibbonacci series: \"))\n",
    "\n",
    "sumo = ent_cm +1\n",
    "lisp = [0]*10\n",
    "lisp[0] = ent_cm\n",
    "lisp[1] = sumo\n",
    "print(lisp[0])\n",
    "print(lisp[1])\n",
    "\n",
    "for i in range(0,8):\n",
    "    lisp[i+2]=lisp[i]+lisp[i+1]\n",
    "    print(lisp[i+2])"
   ]
  },
  {
   "cell_type": "code",
   "execution_count": 20,
   "metadata": {},
   "outputs": [
    {
     "name": "stdin",
     "output_type": "stream",
     "text": [
      "enter the value to find factorial:  5\n"
     ]
    },
    {
     "name": "stdout",
     "output_type": "stream",
     "text": [
      "the factorial value 5! = 120\n"
     ]
    }
   ],
   "source": [
    "### Problem 6 - Find the factorial of a given number.\n",
    "##Write a program to use the loop to find the factorial of a given number.\n",
    "##The factorial (symbol: !) means to multiply all whole numbers from the chosen number down to 1.\n",
    "##For example: calculate the factorial of 5\n",
    "##bash\n",
    "##5! = 5 × 4 × 3 × 2 × 1 = 120\n",
    "##Output: \n",
    "##bash\n",
    "##120\n",
    "\n",
    "ent_cm = int(input(\"enter the value to find factorial: \"))\n",
    "\n",
    "factorial =1\n",
    "for i in range(ent_cm-1):\n",
    "    factorial = factorial*(ent_cm-i)\n",
    "print(f\"the factorial value {ent_cm}! = {factorial}\")"
   ]
  },
  {
   "cell_type": "code",
   "execution_count": 21,
   "metadata": {},
   "outputs": [
    {
     "name": "stdin",
     "output_type": "stream",
     "text": [
      "enter the value to get reversed :  5674\n"
     ]
    },
    {
     "name": "stdout",
     "output_type": "stream",
     "text": [
      "4765\n"
     ]
    }
   ],
   "source": [
    "### Problem 7 - Reverse a given integer number.\n",
    "##Example:\n",
    "##Input:\n",
    "##bash\n",
    "##76542\n",
    "##Output:\n",
    "##bash\n",
    "##24567\n",
    "\n",
    "ent_cm = (input(\"enter the value to get reversed : \"))\n",
    "\n",
    "b = len(ent_cm)\n",
    "li = []\n",
    "for i in range(b):\n",
    "    li.append(ent_cm[b-i-1])\n",
    "\n",
    "print(\"\".join(li))"
   ]
  },
  {
   "cell_type": "code",
   "execution_count": 22,
   "metadata": {},
   "outputs": [
    {
     "name": "stdin",
     "output_type": "stream",
     "text": [
      "enter the value :  45\n"
     ]
    },
    {
     "name": "stdout",
     "output_type": "stream",
     "text": [
      "24\n",
      "24\n",
      "[20, 15, 10, 5, 0]\n",
      " The value summing up which is not greater than 300 and skipping all divisible by 5 is 250.0\n"
     ]
    }
   ],
   "source": [
    "### Problem 8: Take a user input as integer N.\n",
    "##Find out the sum from 1 to N.\n",
    "##If any number if divisible by 5, then skip that number.\n",
    "##And if the sum is greater than 300, don't need to calculate the sum further more.\n",
    "##Print the final result. And don't use for loop to solve this problem.\n",
    "##*Example 1:*\n",
    "##Input:\n",
    "##bash\n",
    "##30\n",
    "##Output:\n",
    "##bash\n",
    "##276\n",
    "\n",
    "ent = int(input(\"enter the value : \"))\n",
    "sumuntilent = ent*(ent+1)/2\n",
    "maxlimit = 300\n",
    "while sumuntilent>maxlimit:\n",
    "    ent = ent-1\n",
    "    sumuntilent = ent*(ent+1)/2\n",
    "\n",
    "print(ent)\n",
    "newsum = ent*(ent+1)/2\n",
    "li = []\n",
    "\n",
    "temp = ent\n",
    "print(temp)\n",
    "\n",
    "while temp>=0:\n",
    "    if temp%5 ==0:\n",
    "        li.append(temp)\n",
    "    temp = temp-1\n",
    "\n",
    "print(li)\n",
    "\n",
    "finval = newsum -sum(li)\n",
    "print(f\" The value summing up which is not greater than 300 and skipping all divisible by 5 is {finval}\")"
   ]
  },
  {
   "cell_type": "code",
   "execution_count": 23,
   "metadata": {},
   "outputs": [
    {
     "name": "stdin",
     "output_type": "stream",
     "text": [
      "enter zero:  56\n",
      "enter zero:  0\n"
     ]
    },
    {
     "name": "stdout",
     "output_type": "stream",
     "text": [
      "[56, 0]\n",
      "sum of entered numbers = 56\n",
      "the average of entered numbers = 28.0\n"
     ]
    }
   ],
   "source": [
    "### Problem 9: Write a program that keeps on accepting a number from the user until the user enters Zero.\n",
    "##Display the sum and average of all the numbers.\n",
    "\n",
    "ent = None\n",
    "li = []\n",
    "while ent is None:\n",
    "    num = int(input(\"enter zero: \"))\n",
    "    li.append(num)\n",
    "    if num ==0:\n",
    "        ent = 30\n",
    "print(li)\n",
    "print(f\"sum of entered numbers = {sum(li)}\")\n",
    "print(f\"the average of entered numbers = {sum(li)/len(li)}\")"
   ]
  },
  {
   "cell_type": "code",
   "execution_count": 24,
   "metadata": {},
   "outputs": [
    {
     "name": "stdout",
     "output_type": "stream",
     "text": [
      " the list of all numbers is : [2002, 2009, 2016, 2023, 2037, 2044, 2051, 2058, 2072, 2079, 2086, 2093, 2107, 2114, 2121, 2128, 2142, 2149, 2156, 2163, 2177, 2184, 2191, 2198, 2212, 2219, 2226, 2233, 2247, 2254, 2261, 2268, 2282, 2289, 2296, 2303, 2317, 2324, 2331, 2338, 2352, 2359, 2366, 2373, 2387, 2394, 2401, 2408, 2422, 2429, 2436, 2443, 2457, 2464, 2471, 2478, 2492, 2499, 2506, 2513, 2527, 2534, 2541, 2548, 2562, 2569, 2576, 2583, 2597, 2604, 2611, 2618, 2632, 2639, 2646, 2653, 2667, 2674, 2681, 2688, 2702, 2709, 2716, 2723, 2737, 2744, 2751, 2758, 2772, 2779, 2786, 2793, 2807, 2814, 2821, 2828, 2842, 2849, 2856, 2863, 2877, 2884, 2891, 2898, 2912, 2919, 2926, 2933, 2947, 2954, 2961, 2968, 2982, 2989, 2996, 3003, 3017, 3024, 3031, 3038, 3052, 3059, 3066, 3073, 3087, 3094, 3101, 3108, 3122, 3129, 3136, 3143, 3157, 3164, 3171, 3178, 3192, 3199]\n"
     ]
    }
   ],
   "source": [
    "###Problem 9: Write a program which will find all such numbers which are divisible\n",
    "##by 7 but are not a multiple of 5, between 2000 and 3200 (both included).\n",
    "##The numbers obtained should be printed in a comma-separated sequence on a single line.\n",
    "\n",
    "li= []\n",
    "for i in range(2000,3201):\n",
    "    if (i%7==0 and i%5!=0 ):\n",
    "        li.append(i)\n",
    "\n",
    "print(f\" the list of all numbers is : {li}\")"
   ]
  },
  {
   "cell_type": "code",
   "execution_count": 26,
   "metadata": {},
   "outputs": [
    {
     "name": "stdout",
     "output_type": "stream",
     "text": [
      " 1.UP \n",
      " 2.DOWN \n",
      " 3.LEFT \n",
      " 4.RIGHT\n",
      "position = (0,0)\n"
     ]
    },
    {
     "name": "stdin",
     "output_type": "stream",
     "text": [
      "enter the units moved up:  5\n"
     ]
    },
    {
     "name": "stdout",
     "output_type": "stream",
     "text": [
      "new co-ordinates are (0, 5)\n"
     ]
    },
    {
     "name": "stdin",
     "output_type": "stream",
     "text": [
      "enter the units moved down:  4\n"
     ]
    },
    {
     "name": "stdout",
     "output_type": "stream",
     "text": [
      "new co-ordinates are (0, 1)\n"
     ]
    },
    {
     "name": "stdin",
     "output_type": "stream",
     "text": [
      "enter the units moved left:  3\n"
     ]
    },
    {
     "name": "stdout",
     "output_type": "stream",
     "text": [
      "new co-ordinates are (-3, 1)\n"
     ]
    },
    {
     "name": "stdin",
     "output_type": "stream",
     "text": [
      "enter the units moved right:  2\n"
     ]
    },
    {
     "name": "stdout",
     "output_type": "stream",
     "text": [
      "new co-ordinates are (0, 1)\n",
      "distance from origin is 1.0\n"
     ]
    }
   ],
   "source": [
    "###Problem 11: A robot moves in a plane starting from the original point (0,0).\n",
    "##The robot can move toward UP, DOWN, LEFT and RIGHT with a given steps. \n",
    "##The trace of robot movement is shown as the following:\n",
    "##UP 5\n",
    "##DOWN 3\n",
    "##LEFT 3\n",
    "##RIGHT 2!\n",
    "##\n",
    "##> The numbers after the direction are steps. \n",
    "##> ! means robot stop there.\n",
    "##*Please write a program to compute the distance from current position after a sequence of movement\n",
    "##and original point.* \n",
    "##If the distance is a float, then just print the nearest integer.\n",
    "##Example:\n",
    "##Input:\n",
    "##UP 5\n",
    "##DOWN 3\n",
    "##LEFT 3\n",
    "##RIGHT 2!\n",
    "##Output:2\n",
    "\n",
    "import math\n",
    "import time\n",
    "\n",
    "def distancecal(x,y,a=0,b=0):\n",
    "    distance = math.sqrt((b-y)**2 + (a-x)**2)\n",
    "    print(f\"distance from origin is {distance}\")\n",
    "    \n",
    "print(\" 1.UP \\n 2.DOWN \\n 3.LEFT \\n 4.RIGHT\")\n",
    "print(\"position = (0,0)\")\n",
    "co_1 = 0 # origin\n",
    "co_2 = 0 # origin\n",
    "co_3 = 0\n",
    "co_4 = 0\n",
    "up_entry = int(input(\"enter the units moved up: \"))\n",
    "co_4 = co_4+up_entry\n",
    "print(f\"new co-ordinates are {(co_3,co_4)}\")\n",
    "do_entry = int(input(\"enter the units moved down: \"))\n",
    "co_4 = co_4-do_entry\n",
    "print(f\"new co-ordinates are {(co_3,co_4)}\")\n",
    "le_entry = int(input(\"enter the units moved left: \"))\n",
    "co_3 = co_3-le_entry\n",
    "print(f\"new co-ordinates are {(co_3,co_4)}\")\n",
    "ri_entry = int(input(\"enter the units moved right: \"))\n",
    "co_3 = co_3+le_entry\n",
    "print(f\"new co-ordinates are {(co_3,co_4)}\")\n",
    "\n",
    "distancecal(co_3,co_4,0,0)"
   ]
  },
  {
   "cell_type": "code",
   "execution_count": 27,
   "metadata": {},
   "outputs": [
    {
     "name": "stdin",
     "output_type": "stream",
     "text": [
      "enter the random number:  56\n"
     ]
    },
    {
     "name": "stdout",
     "output_type": "stream",
     "text": [
      "its not a prime number\n"
     ]
    }
   ],
   "source": [
    "###Problem 12:Write a program to print whether a given number is a prime number or not\n",
    "\n",
    "def ch_random(num):\n",
    "    if num>1:\n",
    "        for i in range(2,int(num/2)):\n",
    "            if num%i==0:\n",
    "                return (\"its not a prime number\")       \n",
    "    return (\"its a prime number\")\n",
    "        \n",
    "ent_random = int(input(\"enter the random number: \"))\n",
    "\n",
    "print(f\"{ch_random(ent_random)}\")"
   ]
  },
  {
   "cell_type": "code",
   "execution_count": 30,
   "metadata": {},
   "outputs": [
    {
     "name": "stdin",
     "output_type": "stream",
     "text": [
      "enter the starting range (only 3 digit number):  000\n",
      "enter the ending range: (only 3 digit number):  720\n"
     ]
    },
    {
     "name": "stdout",
     "output_type": "stream",
     "text": [
      "[0, 1, 153, 370, 371, 407]\n"
     ]
    }
   ],
   "source": [
    "###Problem 13:Print all the Armstrong numbers in a given range.\n",
    "\n",
    "##Range will be provided by the user<br>\n",
    "##Armstrong number is a number that is equal to the sum of cubes of its digits.\n",
    "##For example 0, 1, 153, 370, 371 and 407 are the Armstrong numbers.\n",
    "\n",
    "ent_range1 = input(\"enter the starting range (only 3 digit number): \")\n",
    "ent_range2 = input(\"enter the ending range: (only 3 digit number): \")\n",
    "\n",
    "def checkarmstrong(num):\n",
    "    a = num%10\n",
    "    b = (num//10)%10\n",
    "    c = (num//100)%10\n",
    "    val = a**3+b**3+c**3\n",
    "    if num == val:\n",
    "        return \"arms\"\n",
    "    \n",
    "li = []\n",
    "for i in range(int(ent_range1),int(ent_range2)):\n",
    "    build = checkarmstrong(i)\n",
    "    if build == \"arms\":\n",
    "        li.append(i)\n",
    "\n",
    "print(li)"
   ]
  },
  {
   "cell_type": "code",
   "execution_count": 31,
   "metadata": {},
   "outputs": [
    {
     "name": "stdin",
     "output_type": "stream",
     "text": [
      "enter the hour hand value in hrs:  9\n",
      "enter the minute hand value in min:  60\n"
     ]
    },
    {
     "name": "stdout",
     "output_type": "stream",
     "text": [
      " The degree in b/n hour hand and minute hand is : 90.0\n"
     ]
    }
   ],
   "source": [
    "###Problem 14:Calculate the angle between the hour hand and minute hand.\n",
    "##Note: There can be two angles between hands; we need to print a minimum of two.\n",
    "##Also, we need to print the floor of the final result angle.\n",
    "##For example, if the final angle is 10.61, we need to print 10.\n",
    "##\n",
    "##Input:<br>\n",
    "##H = 9 , M = 0<br>\n",
    "##Output:<br>\n",
    "##90<br>\n",
    "##Explanation:<br>\n",
    "##The minimum angle between hour and minute\n",
    "##hand when the time is 9 is 90 degress.\n",
    "\n",
    "hrh = int(input(\"enter the hour hand value in hrs: \"))\n",
    "mih = int(input(\"enter the minute hand value in min: \"))\n",
    "\n",
    "con = round((mih/5),2)\n",
    "deg = abs((hrh-con))*30\n",
    "val = 360-deg if deg>180 else deg\n",
    "print(f\" The degree in b/n hour hand and minute hand is : {val}\")"
   ]
  },
  {
   "cell_type": "code",
   "execution_count": 33,
   "metadata": {},
   "outputs": [
    {
     "name": "stdout",
     "output_type": "stream",
     "text": [
      "enter all the values as 6,6 for each cords\n"
     ]
    },
    {
     "name": "stdin",
     "output_type": "stream",
     "text": [
      "enter the right bottom cords of rectangle1:  10,0\n",
      "enter the left top cords of rectangle1:  0,10\n",
      "enter the right bottom cords of rectangle2:  5,-5\n",
      "enter the left top cords of rectangle2:  15,5\n"
     ]
    },
    {
     "name": "stdout",
     "output_type": "stream",
     "text": [
      "rectangles dont overlap\n"
     ]
    }
   ],
   "source": [
    "###Problem 15:Given two rectangles, find if the given two rectangles overlap or not.\n",
    "##A rectangle is denoted by providing the x and y coordinates of two points:\n",
    "##the left top corner and the right bottom corner of the rectangle.\n",
    "##Two rectangles sharing a side are considered overlapping.\n",
    "##(L1 and R1 are the extreme points of the first rectangle and\n",
    "##L2 and R2 are the extreme points of the second rectangle).\n",
    "##\n",
    "##Note: It may be assumed that the rectangles are parallel to the coordinate axis.\n",
    "##<img src='https://www.geeksforgeeks.org/wp-content/uploads/rectanglesOverlap.png' width='300' height='200'>\n",
    "\n",
    "print(\"enter all the values as 6,6 for each cords\")\n",
    "l1 = (input(\"enter the right bottom cords of rectangle1: \"))\n",
    "l2 = (input(\"enter the left top cords of rectangle1: \"))\n",
    "\n",
    "x1,y1 = l1.split(\",\")\n",
    "x2,y2 = l2.split(\",\")\n",
    "\n",
    "r1 = (input(\"enter the right bottom cords of rectangle2: \"))\n",
    "r2 = (input(\"enter the left top cords of rectangle2: \"))\n",
    "\n",
    "x11,y11 = r1.split(\",\")\n",
    "x21,y21 = r2.split(\",\")\n",
    "\n",
    "def checkoverlap(x1,y1,x2,y2,x11,y11,x21,y21):\n",
    "    if x1>x21 or x11>x2:\n",
    "        return False\n",
    "    if y2>y11 or y21>y1:\n",
    "        return False\n",
    "    return True\n",
    "\n",
    "if checkoverlap(int(x1),int(y1),int(x2),int(y2),int(x11),int(y11),int(x21),int(y21)):\n",
    "    print(\" yes, the gives rectangles overlap\")\n",
    "else:\n",
    "    print(\"rectangles dont overlap\")"
   ]
  },
  {
   "cell_type": "code",
   "execution_count": null,
   "metadata": {},
   "outputs": [],
   "source": []
  }
 ],
 "metadata": {
  "kernelspec": {
   "display_name": "cuda-gpt2",
   "language": "python",
   "name": "cuda"
  },
  "language_info": {
   "codemirror_mode": {
    "name": "ipython",
    "version": 3
   },
   "file_extension": ".py",
   "mimetype": "text/x-python",
   "name": "python",
   "nbconvert_exporter": "python",
   "pygments_lexer": "ipython3",
   "version": "3.11.7"
  }
 },
 "nbformat": 4,
 "nbformat_minor": 4
}
